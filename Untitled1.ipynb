{
  "nbformat": 4,
  "nbformat_minor": 0,
  "metadata": {
    "colab": {
      "name": "Untitled1.ipynb",
      "provenance": [],
      "collapsed_sections": []
    },
    "kernelspec": {
      "name": "python3",
      "display_name": "Python 3"
    },
    "language_info": {
      "name": "python"
    },
    "accelerator": "GPU"
  },
  "cells": [
    {
      "cell_type": "code",
      "metadata": {
        "colab": {
          "base_uri": "https://localhost:8080/"
        },
        "id": "4RlBxJNYrnDG",
        "outputId": "7bfadeb9-94c8-4328-ac19-cd4215230ce1"
      },
      "source": [
        "!wget --no-check-certificate \\\n",
        "'https://github.com/opencv/opencv/blob/3.4/data/haarcascades/haarcascade_eye_tree_eyeglasses.xml'\n",
        "!wget --no-check-certificate \\\n",
        "\"https://github.com/opencv/opencv/blob/3.4/data/haarcascades/haarcascade_lefteye_2splits.xml\""
      ],
      "execution_count": 9,
      "outputs": [
        {
          "output_type": "stream",
          "name": "stdout",
          "text": [
            "--2021-10-08 21:41:35--  https://github.com/opencv/opencv/blob/3.4/data/haarcascades/haarcascade_eye_tree_eyeglasses.xml\n",
            "Resolving github.com (github.com)... 140.82.121.3\n",
            "Connecting to github.com (github.com)|140.82.121.3|:443... connected.\n",
            "HTTP request sent, awaiting response... 200 OK\n",
            "Length: unspecified [text/html]\n",
            "Saving to: ‘haarcascade_eye_tree_eyeglasses.xml.2’\n",
            "\n",
            "haarcascade_eye_tre     [ <=>                ]   5.60M  --.-KB/s    in 0.08s   \n",
            "\n",
            "2021-10-08 21:41:36 (67.1 MB/s) - ‘haarcascade_eye_tree_eyeglasses.xml.2’ saved [5872403]\n",
            "\n",
            "--2021-10-08 21:41:36--  https://github.com/opencv/opencv/blob/3.4/data/haarcascades/haarcascade_lefteye_2splits.xml\n",
            "Resolving github.com (github.com)... 140.82.121.3\n",
            "Connecting to github.com (github.com)|140.82.121.3|:443... connected.\n",
            "HTTP request sent, awaiting response... 200 OK\n",
            "Length: unspecified [text/html]\n",
            "Saving to: ‘haarcascade_lefteye_2splits.xml.2’\n",
            "\n",
            "haarcascade_lefteye     [ <=>                ]   1.89M  --.-KB/s    in 0.06s   \n",
            "\n",
            "2021-10-08 21:41:37 (34.3 MB/s) - ‘haarcascade_lefteye_2splits.xml.2’ saved [1981678]\n",
            "\n"
          ]
        }
      ]
    },
    {
      "cell_type": "code",
      "metadata": {
        "id": "Ce7IPCrwqe8x"
      },
      "source": [
        "import cv2\n",
        "import numpy as np\n",
        "import cv2 as cv\n",
        "import os\n",
        "from glob import glob"
      ],
      "execution_count": 10,
      "outputs": []
    },
    {
      "cell_type": "code",
      "metadata": {
        "id": "uQ5CX0darTR8"
      },
      "source": [
        "directory_path = \"/content/drive/MyDrive/0P/train/-10V_0H/\"\n",
        "new_directory = directory_path[:-1]+\"_eyes/\"\n",
        "os.mkdir(new_directory)"
      ],
      "execution_count": 11,
      "outputs": []
    },
    {
      "cell_type": "code",
      "metadata": {
        "colab": {
          "base_uri": "https://localhost:8080/"
        },
        "id": "UOoR30EE0fW6",
        "outputId": "bf319106-5ada-4552-d571-7f8a923cbf2f"
      },
      "source": [
        "from google.colab import drive\n",
        "drive.mount('/content/drive')"
      ],
      "execution_count": 12,
      "outputs": [
        {
          "output_type": "stream",
          "name": "stdout",
          "text": [
            "Drive already mounted at /content/drive; to attempt to forcibly remount, call drive.mount(\"/content/drive\", force_remount=True).\n"
          ]
        }
      ]
    },
    {
      "cell_type": "code",
      "metadata": {
        "colab": {
          "base_uri": "https://localhost:8080/"
        },
        "id": "s9xlXPh3sPth",
        "outputId": "4ea8f5fc-2329-42ee-99e6-b5002ae4429c"
      },
      "source": [
        "eye_cascade = cv.CascadeClassifier(cv2.data.haarcascades + \"haarcascade_eye_tree_eyeglasses.xml\")\n",
        "all_images = glob(directory_path+\"*.jpg\")\n",
        "for img_path in all_images:\n",
        "  oriimg = cv2.imread(img_path)\n",
        "  gray = cv2.cvtColor(oriimg, cv2.COLOR_BGR2GRAY)\n",
        "  eyes = eye_cascade.detectMultiScale(gray, 1.1, 4)\n",
        "  try:\n",
        "    eye1 = eyes[0]\n",
        "    eye1[2]+= eye1[0]\n",
        "    eye1[3]+=eye1[1]\n",
        "    eye2 = eyes[1]\n",
        "    eye2[2]+=eye2[0]\n",
        "    eye2[3]+=eye2[1]\n",
        "\n",
        "    left = min(eye1[0],eye2[0])\n",
        "    top = min(eye1[1],eye2[1])\n",
        "    right = max(eye1[2],eye2[2])\n",
        "    botom = max(eye1[3],eye2[3])\n",
        "    cropped = oriimg[top:botom,left:right]\n",
        "    path = img_path.replace(directory_path,new_directory)\n",
        "    cv2.imwrite(path, cropped)\n",
        "  except:print(img_path)"
      ],
      "execution_count": 13,
      "outputs": [
        {
          "output_type": "stream",
          "name": "stdout",
          "text": [
            "/content/drive/MyDrive/0P/train/-10V_0H/0005_2m_0P_-10V_0H.jpg\n",
            "/content/drive/MyDrive/0P/train/-10V_0H/0016_2m_0P_-10V_0H.jpg\n",
            "/content/drive/MyDrive/0P/train/-10V_0H/0017_2m_0P_-10V_0H.jpg\n",
            "/content/drive/MyDrive/0P/train/-10V_0H/0034_2m_0P_-10V_0H.jpg\n",
            "/content/drive/MyDrive/0P/train/-10V_0H/0036_2m_0P_-10V_0H.jpg\n",
            "/content/drive/MyDrive/0P/train/-10V_0H/0042_2m_0P_-10V_0H.jpg\n",
            "/content/drive/MyDrive/0P/train/-10V_0H/0037_2m_0P_-10V_0H.jpg\n"
          ]
        }
      ]
    }
  ]
}